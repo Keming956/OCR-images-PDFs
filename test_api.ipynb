{
 "cells": [
  {
   "cell_type": "code",
   "execution_count": 13,
   "metadata": {},
   "outputs": [],
   "source": [
    "from mistralai import Mistral\n",
    "import os\n",
    "import json\n",
    "\n",
    "api_key = 't7kgjza3OdyO99TS0XyRoheK2xBzjeG8'\n",
    "\n",
    "client = Mistral(api_key=api_key)\n",
    "\n",
    "uploaded_pdf = client.files.upload(\n",
    "    file={\n",
    "        \"file_name\": \"Appel à stage OOB.pdf\",\n",
    "        \"content\": open(\"Appel à stage OOB.pdf\", \"rb\"),\n",
    "    },\n",
    "    purpose=\"ocr\"\n",
    ")  "
   ]
  },
  {
   "cell_type": "code",
   "execution_count": 9,
   "metadata": {},
   "outputs": [
    {
     "data": {
      "text/plain": [
       "RetrieveFileOut(id='dbd79d4d-7d49-4b98-a5ba-d6677068111c', object='file', size_bytes=453736, created_at=1742225224, filename='Appel à stage OOB.pdf', purpose='ocr', sample_type='ocr_input', source='upload', deleted=False, num_lines=None)"
      ]
     },
     "execution_count": 9,
     "metadata": {},
     "output_type": "execute_result"
    }
   ],
   "source": [
    "client.files.retrieve(file_id=uploaded_pdf.id)"
   ]
  },
  {
   "cell_type": "code",
   "execution_count": 10,
   "metadata": {},
   "outputs": [],
   "source": [
    "signed_url = client.files.get_signed_url(file_id=uploaded_pdf.id)"
   ]
  },
  {
   "cell_type": "code",
   "execution_count": 11,
   "metadata": {},
   "outputs": [],
   "source": [
    "import os\n",
    "from mistralai import Mistral\n",
    "\n",
    "api_key = 't7kgjza3OdyO99TS0XyRoheK2xBzjeG8'\n",
    "client = Mistral(api_key=api_key)\n",
    "\n",
    "ocr_response = client.ocr.process(\n",
    "    model=\"mistral-ocr-latest\",\n",
    "    document={\n",
    "        \"type\": \"document_url\",\n",
    "        \"document_url\": signed_url.url,\n",
    "    }\n",
    ")"
   ]
  },
  {
   "cell_type": "code",
   "execution_count": 15,
   "metadata": {},
   "outputs": [
    {
     "name": "stdout",
     "output_type": "stream",
     "text": [
      "{\n",
      "    \"pages\": [\n",
      "        {\n",
      "            \"index\": 0,\n",
      "            \"markdown\": \"# Appel \\u00e0 stage Master TAL/HN \\n\\n## Traitement et valorisation de donn\\u00e9es historiques oc\\u00e9anographiques\\n\\n## Pr\\u00e9sentation\\n\\nCe stage s'inscrit dans un projet de recherche men\\u00e9 \\u00e0 l'Observatoire Oc\\u00e9anologique de Banyuls-sur-Mer (OOB) visant \\u00e0 exploiter des registres m\\u00e9t\\u00e9orologiques (1900-1912) et des journaux de bord (1883-1909) pour l'\\u00e9tude de l'\\u00e9volution des conditions oc\\u00e9aniques. Ces documents historiques, repr\\u00e9sentant un corpus de 3500 pages, contiennent, entre autres, des informations pr\\u00e9cieuses sur la temp\\u00e9rature de l'eau, l'\\u00e9tat de la mer et du vent. L'objectif du stage est de participer au pipeline de traitement de ces donn\\u00e9es, depuis leur num\\u00e9risation jusqu'\\u00e0 leur int\\u00e9gration dans un chatbot RAG (Retrieval-Augmented Generation), afin de faciliter l'acc\\u00e8s et l'interrogation de ce patrimoine scie\n"
     ]
    }
   ],
   "source": [
    "# Convert response to JSON format\n",
    "response_dict = json.loads(ocr_response.model_dump_json())\n",
    "\n",
    "print(json.dumps(response_dict, indent=4)[0:1000]) # check the first 1000 characters"
   ]
  },
  {
   "cell_type": "code",
   "execution_count": null,
   "metadata": {},
   "outputs": [],
   "source": [
    "import os\n",
    "from mistralai import Mistral\n",
    "\n",
    "api_key = \"t7kgjza3OdyO99TS0XyRoheK2xBzjeG8\"\n",
    "client = Mistral(api_key=api_key)\n",
    "\n",
    "ocr_response = client.ocr.process(\n",
    "    model=\"mistral-ocr-latest\",\n",
    "    document={\n",
    "        \"type\": \"document_url\",\n",
    "        \"document_url\": \"https://arxiv.org/pdf/2201.04234\"\n",
    "    },\n",
    "    include_image_base64=Truex \n",
    ")"
   ]
  },
  {
   "cell_type": "code",
   "execution_count": 4,
   "metadata": {},
   "outputs": [
    {
     "ename": "NameError",
     "evalue": "name 'document' is not defined",
     "output_type": "error",
     "traceback": [
      "\u001b[0;31m---------------------------------------------------------------------------\u001b[0m",
      "\u001b[0;31mNameError\u001b[0m                                 Traceback (most recent call last)",
      "Cell \u001b[0;32mIn[4], line 1\u001b[0m\n\u001b[0;32m----> 1\u001b[0m \u001b[38;5;28mprint\u001b[39m(\u001b[43mdocument\u001b[49m)\n",
      "\u001b[0;31mNameError\u001b[0m: name 'document' is not defined"
     ]
    }
   ],
   "source": [
    "print(document)"
   ]
  },
  {
   "cell_type": "code",
   "execution_count": null,
   "metadata": {},
   "outputs": [],
   "source": []
  }
 ],
 "metadata": {
  "kernelspec": {
   "display_name": "Python 3 (ipykernel)",
   "language": "python",
   "name": "python3"
  },
  "language_info": {
   "codemirror_mode": {
    "name": "ipython",
    "version": 3
   },
   "file_extension": ".py",
   "mimetype": "text/x-python",
   "name": "python",
   "nbconvert_exporter": "python",
   "pygments_lexer": "ipython3",
   "version": "3.12.3"
  }
 },
 "nbformat": 4,
 "nbformat_minor": 2
}
